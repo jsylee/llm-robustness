{
 "cells": [
  {
   "cell_type": "code",
   "execution_count": null,
   "metadata": {},
   "outputs": [],
   "source": [
    "import os\n",
    "import random\n",
    "\n",
    "from openai import OpenAI\n",
    "from dotenv import load_dotenv\n",
    "import pandas as pd"
   ]
  },
  {
   "cell_type": "code",
   "execution_count": null,
   "metadata": {},
   "outputs": [],
   "source": [
    "load_dotenv()"
   ]
  },
  {
   "cell_type": "code",
   "execution_count": null,
   "metadata": {},
   "outputs": [],
   "source": [
    "client = OpenAI()"
   ]
  },
  {
   "cell_type": "code",
   "execution_count": null,
   "metadata": {},
   "outputs": [],
   "source": [
    "# directory holding MMLU test set questions\n",
    "data_dir = \"mmlu/test\"\n",
    "\n",
    "df_list = []\n",
    "\n",
    "for filename in os.listdir(data_dir):\n",
    "\n",
    "    subject = filename.replace(\".csv\", \"\")\n",
    "    df = pd.read_csv(f\"{data_dir}/{filename}\", header=None)\n",
    "    df_sample = df.sample(frac=0.02).copy()\n",
    "\n",
    "    df_sample.columns = [\"question\", \"A\", \"B\", \"C\", \"D\", \"answer\"]\n",
    "\n",
    "    df_sample[\"subject\"] = subject\n",
    "    df_list.append(df_sample)"
   ]
  },
  {
   "cell_type": "code",
   "execution_count": null,
   "metadata": {},
   "outputs": [],
   "source": [
    "mmlu_df = pd.concat(df_list, axis=0)\n",
    "mmlu_df[\"question_id\"] = range(mmlu_df.shape[0])\n",
    "mmlu_df.to_csv(\"mmlu_test_2pct_sample.csv\", index=False)"
   ]
  },
  {
   "cell_type": "code",
   "execution_count": null,
   "metadata": {},
   "outputs": [],
   "source": [
    "def gpt_35_perturb_question(question):\n",
    "    prompt = f\"Reword the following question: {question}\"\n",
    "    completion = client.chat.completions.create(\n",
    "        model=\"gpt-3.5-turbo\",\n",
    "        messages=[\n",
    "            {\"role\": \"user\", \"content\": prompt}\n",
    "        ]\n",
    "    )\n",
    "\n",
    "    return completion.choices[0].message.content"
   ]
  },
  {
   "cell_type": "code",
   "execution_count": null,
   "metadata": {},
   "outputs": [],
   "source": [
    "def add_random_char(s):\n",
    "\n",
    "    char = random.choice([\"@\", \"#\", \"*\", \"{\", \"}\", \"`\", \"\\\\\"])\n",
    "\n",
    "    random_position = random.randint(0, len(s))\n",
    "\n",
    "    return s[:random_position] + char + s[random_position:]"
   ]
  },
  {
   "cell_type": "code",
   "execution_count": null,
   "metadata": {},
   "outputs": [],
   "source": [
    "simple_perturbed_df = mmlu_df.copy()\n",
    "simple_perturbed_df[\"question\"] = simple_perturbed_df[\"question\"].apply(add_random_char)\n",
    "simple_perturbed_df.to_csv(\"final_data/mmlu_200_singlechar_perturbed.csv\", index=False)"
   ]
  },
  {
   "cell_type": "code",
   "execution_count": null,
   "metadata": {},
   "outputs": [],
   "source": [
    "gpt_35_perturbed_df = mmlu_df.copy()\n",
    "gpt_35_perturbed_df[\"question\"] = gpt_35_perturbed_df[\"question\"].apply(gpt_35_perturb_question)\n",
    "gpt_35_perturbed_df.to_csv(\"final_data/mmlu_200_gpt_perturbed.csv\", index=False)"
   ]
  }
 ],
 "metadata": {
  "kernelspec": {
   "display_name": "azureml_py38_PT_and_TF",
   "language": "python",
   "name": "python3"
  },
  "language_info": {
   "codemirror_mode": {
    "name": "ipython",
    "version": 3
   },
   "file_extension": ".py",
   "mimetype": "text/x-python",
   "name": "python",
   "nbconvert_exporter": "python",
   "pygments_lexer": "ipython3",
   "version": "3.10.13"
  }
 },
 "nbformat": 4,
 "nbformat_minor": 2
}
